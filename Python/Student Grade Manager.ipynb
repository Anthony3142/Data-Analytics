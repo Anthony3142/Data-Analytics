{
 "cells": [
  {
   "cell_type": "code",
   "execution_count": 36,
   "id": "a8bf8898-04cd-411b-8962-ed0981fc101d",
   "metadata": {},
   "outputs": [
    {
     "name": "stdout",
     "output_type": "stream",
     "text": [
      "=== Student Grade Manager ===\n",
      "\n",
      "Options:\n",
      "1. Add student grade\n",
      "2. View all grades\n",
      "3. Analyze class performance\n",
      "4. Exit\n"
     ]
    },
    {
     "name": "stdin",
     "output_type": "stream",
     "text": [
      "Choose an option (1-4):  1\n",
      "Student name:  Zezo\n",
      "Test score (0-100):  65\n"
     ]
    },
    {
     "name": "stdout",
     "output_type": "stream",
     "text": [
      "Added: Zezo - 65.0 (D)\n",
      "\n",
      "Options:\n",
      "1. Add student grade\n",
      "2. View all grades\n",
      "3. Analyze class performance\n",
      "4. Exit\n"
     ]
    },
    {
     "name": "stdin",
     "output_type": "stream",
     "text": [
      "Choose an option (1-4):  2\n"
     ]
    },
    {
     "name": "stdout",
     "output_type": "stream",
     "text": [
      "\n",
      "--- All Student Grades ---\n",
      "Zezo: 65.0 (D)\n",
      "\n",
      "Options:\n",
      "1. Add student grade\n",
      "2. View all grades\n",
      "3. Analyze class performance\n",
      "4. Exit\n"
     ]
    },
    {
     "name": "stdin",
     "output_type": "stream",
     "text": [
      "Choose an option (1-4):  3\n"
     ]
    },
    {
     "name": "stdout",
     "output_type": "stream",
     "text": [
      "\n",
      "--- Class Analysis ---\n",
      "Total students: 1\n",
      "Average score: 65.0\n",
      "Highest score: 65.0\n",
      "Lowest score: 65.0\n",
      "\n",
      "Grade Distribution:\n",
      " A: 0 students\n",
      " B: 0 students\n",
      " C: 0 students\n",
      " D: 1 students\n",
      " F: 0 students\n",
      "\n",
      "Options:\n",
      "1. Add student grade\n",
      "2. View all grades\n",
      "3. Analyze class performance\n",
      "4. Exit\n"
     ]
    },
    {
     "name": "stdin",
     "output_type": "stream",
     "text": [
      "Choose an option (1-4):  4\n"
     ]
    },
    {
     "name": "stdout",
     "output_type": "stream",
     "text": [
      "Goodbye!\n"
     ]
    }
   ],
   "source": [
    "def calculate_letter_grade(score):\n",
    "    if score >= 90:\n",
    "        return \"A\"\n",
    "    elif score >= 80:\n",
    "        return \"B\"\n",
    "    elif score >= 70:\n",
    "        return \"C\"\n",
    "    elif score >= 60:\n",
    "        return \"D\"\n",
    "    else:\n",
    "        return \"F\"\n",
    "\n",
    "        \n",
    "\n",
    "def analyze_class_performance(grades_dict):\n",
    "    if not grades_dict:\n",
    "        print(\"No grades to analyze!\")\n",
    "        return\n",
    "    scores = list(grades_dict.values())\n",
    "    total_score = sum(scores)\n",
    "    average = total_score / len(scores)\n",
    "\n",
    "    print(f\"\\n--- Class Analysis ---\")\n",
    "    print(f\"Total students: {len(grades_dict)}\")\n",
    "    print(f\"Average score: {average:.1f}\")\n",
    "    print(f\"Highest score: {max(scores)}\")\n",
    "    print(f\"Lowest score: {min(scores)}\")\n",
    "\n",
    "    grade_counts = {\"A\": 0, \"B\": 0, \"C\": 0, \"D\": 0, \"F\": 0}\n",
    "    for score in scores:\n",
    "        letter = calculate_letter_grade(score)\n",
    "        grade_counts[letter] += 1\n",
    "\n",
    "    print(\"\\nGrade Distribution:\")\n",
    "    for letter, count in grade_counts.items():\n",
    "        print(f\" {letter}: {count} students\")\n",
    "\n",
    "def main():\n",
    "    print(\"=== Student Grade Manager ===\")\n",
    "    student_grades = {} \n",
    "\n",
    "    while True:\n",
    "        print(\"\\nOptions:\")\n",
    "        print(\"1. Add student grade\")\n",
    "        print(\"2. View all grades\")\n",
    "        print(\"3. Analyze class performance\")\n",
    "        print(\"4. Exit\")\n",
    "\n",
    "        try:\n",
    "            choice = input(\"Choose an option (1-4): \")\n",
    "\n",
    "            if choice == \"1\":\n",
    "                name = input(\"Student name: \").strip()\n",
    "                if not name:\n",
    "                    print(\"Name cannot be empty!\")\n",
    "                    continue\n",
    "                score = float(input(\"Test score (0-100): \"))\n",
    "                if score < 0 or score > 100:\n",
    "                    print(\"Score must be between 0 and 100!\")\n",
    "                    continue\n",
    "                student_grades[name] = score\n",
    "                letter = calculate_letter_grade(score)\n",
    "                print(f\"Added: {name} - {score} ({letter})\")\n",
    "\n",
    "            elif choice == \"2\":\n",
    "                if student_grades:\n",
    "                    print(\"\\n--- All Student Grades ---\")\n",
    "                    for name, score in student_grades.items():\n",
    "                        letter = calculate_letter_grade(score)\n",
    "                        print(f\"{name}: {score} ({letter})\")\n",
    "                else:\n",
    "                    print(\"\\nNo grades recorded yet!\")\n",
    "\n",
    "\n",
    "            elif choice == \"3\":\n",
    "                analyze_class_performance(student_grades)\n",
    "\n",
    "            elif choice == \"4\":\n",
    "                print(\"Goodbye!\")\n",
    "                break\n",
    "\n",
    "            else:\n",
    "                print(\"Invalid choice! Please enter 1, 2, 3, or 4.\")\n",
    "\n",
    "        except ValueError:\n",
    "            print(\"Please enter a valid number!\")\n",
    "        except KeyboardInterrupt:\n",
    "            print(\"\\nProgram stopped. Goodbye!\")\n",
    "            break\n",
    "\n",
    "# Run the program\n",
    "main()"
   ]
  },
  {
   "cell_type": "code",
   "execution_count": null,
   "id": "a5e60b23-021f-45c9-b16b-6fa51168ad76",
   "metadata": {},
   "outputs": [
    {
     "name": "stdout",
     "output_type": "stream",
     "text": [
      "=== Student Grade Manager ===\n",
      "\n",
      "Options:\n",
      "1. Add student grade\n",
      "2. View all grades\n",
      "3. Analyze class performance\n",
      "4. Exit\n"
     ]
    },
    {
     "name": "stdin",
     "output_type": "stream",
     "text": [
      "Choose an option (1-4):  1\n",
      "Student name:  Dan\n",
      "Test score (0-100):  88\n"
     ]
    },
    {
     "name": "stdout",
     "output_type": "stream",
     "text": [
      "Added: Dan - 88.0 (B)\n",
      "\n",
      "Options:\n",
      "1. Add student grade\n",
      "2. View all grades\n",
      "3. Analyze class performance\n",
      "4. Exit\n"
     ]
    },
    {
     "name": "stdin",
     "output_type": "stream",
     "text": [
      "Choose an option (1-4):  2\n"
     ]
    },
    {
     "name": "stdout",
     "output_type": "stream",
     "text": [
      "\n",
      "--- All Student Grades ---\n",
      "Dan: 88.0 (B)\n",
      "\n",
      "Options:\n",
      "1. Add student grade\n",
      "2. View all grades\n",
      "3. Analyze class performance\n",
      "4. Exit\n"
     ]
    },
    {
     "name": "stdin",
     "output_type": "stream",
     "text": [
      "Choose an option (1-4):  3\n"
     ]
    },
    {
     "name": "stdout",
     "output_type": "stream",
     "text": [
      "\n",
      "--- Class Analysis ---\n",
      "Total students: 1\n",
      "Average score: 88.0\n",
      "Highest score: 88.0\n",
      "Lowest score: 88.0\n",
      "\n",
      "Grade Distribution:\n",
      " A: 0 students\n",
      " B: 1 students\n",
      " C: 0 students\n",
      " D: 0 students\n",
      " F: 0 students\n",
      "\n",
      "Options:\n",
      "1. Add student grade\n",
      "2. View all grades\n",
      "3. Analyze class performance\n",
      "4. Exit\n"
     ]
    }
   ],
   "source": [
    "main()"
   ]
  }
 ],
 "metadata": {
  "kernelspec": {
   "display_name": "Python 3 (ipykernel)",
   "language": "python",
   "name": "python3"
  },
  "language_info": {
   "codemirror_mode": {
    "name": "ipython",
    "version": 3
   },
   "file_extension": ".py",
   "mimetype": "text/x-python",
   "name": "python",
   "nbconvert_exporter": "python",
   "pygments_lexer": "ipython3",
   "version": "3.13.5"
  }
 },
 "nbformat": 4,
 "nbformat_minor": 5
}
