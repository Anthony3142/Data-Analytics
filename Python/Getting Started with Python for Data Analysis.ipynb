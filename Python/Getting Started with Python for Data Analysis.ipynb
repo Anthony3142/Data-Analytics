{
 "cells": [
  {
   "cell_type": "markdown",
   "id": "001bca27-4bcb-4c56-bebe-0504875965ff",
   "metadata": {},
   "source": [
    "# Getting Started with Python for Data Analysis"
   ]
  },
  {
   "cell_type": "markdown",
   "id": "1ad3a777-8d19-4973-83c5-71d88ac4f857",
   "metadata": {},
   "source": [
    "### Real world use case: Small Supermarket Analysis"
   ]
  },
  {
   "cell_type": "code",
   "execution_count": 2,
   "id": "0ebaf1ca-88f5-4ea8-960b-56adb9d758bc",
   "metadata": {},
   "outputs": [
    {
     "name": "stderr",
     "output_type": "stream",
     "text": [
      "Matplotlib is building the font cache; this may take a moment.\n"
     ]
    },
    {
     "name": "stdout",
     "output_type": "stream",
     "text": [
      "Libraries imported successfully! Ready to analyze supermarket data!\n"
     ]
    }
   ],
   "source": [
    "# Step 1: Import our data analysis toolkit\n",
    "import pandas as pd # Will load and organize the sales data\n",
    "import numpy as np # Will calculate averages, totals, and trends\n",
    "import matplotlib.pyplot as plt # Will create charts showing sales over time\n",
    "import seaborn as sns # Will make beautiful visualizations of customer patterns\n",
    "\n",
    "print(\"Libraries imported successfully! Ready to analyze supermarket data!\")"
   ]
  },
  {
   "cell_type": "code",
   "execution_count": 3,
   "id": "223416fc-6b8c-4a0a-a0d9-2042abd48ba8",
   "metadata": {},
   "outputs": [
    {
     "name": "stdout",
     "output_type": "stream",
     "text": [
      "📊 Pandas version: 2.2.3\n",
      "🔢 Numpy version: 2.1.3\n",
      "🎨 Matplotlib and Seaborn are ready for visualization!\n"
     ]
    }
   ],
   "source": [
    "print(f\"📊 Pandas version: {pd.__version__}\")\n",
    "print(f\"🔢 Numpy version: {np.__version__}\")\n",
    "print(\"🎨 Matplotlib and Seaborn are ready for visualization!\")"
   ]
  },
  {
   "cell_type": "code",
   "execution_count": 8,
   "id": "c8bba3d9-f41f-4ef1-9a90-156c7ad4f5a4",
   "metadata": {},
   "outputs": [
    {
     "name": "stdout",
     "output_type": "stream",
     "text": [
      "Sample supermarket data:\n",
      "   Product  Sales  Profit\n",
      "0   Apples    150      45\n",
      "1  Bananas    200      80\n",
      "2  Oranges    120      36\n",
      "3    Bread    300      90\n",
      "4     Milk    250      75\n",
      "Everything is working! You're ready to analyze data!\n"
     ]
    }
   ],
   "source": [
    "# === STEP 3: Create a simple example ===\n",
    "# Let's create some sample data to prove everything works\n",
    "sample_data = {\n",
    "    'Product': ['Apples', 'Bananas', 'Oranges', 'Bread', 'Milk'],\n",
    "    'Sales': [150, 200, 120, 300, 250],\n",
    "    'Profit': [45, 80, 36, 90, 75]\n",
    "}\n",
    "df=pd.DataFrame(sample_data)\n",
    "print(\"Sample supermarket data:\")\n",
    "print(df)\n",
    "print(\"Everything is working! You're ready to analyze data!\")"
   ]
  },
  {
   "cell_type": "code",
   "execution_count": 13,
   "id": "528f9555-622e-4d3b-ac73-ae6e5d97cdbd",
   "metadata": {},
   "outputs": [
    {
     "data": {
      "text/html": [
       "<div>\n",
       "<style scoped>\n",
       "    .dataframe tbody tr th:only-of-type {\n",
       "        vertical-align: middle;\n",
       "    }\n",
       "\n",
       "    .dataframe tbody tr th {\n",
       "        vertical-align: top;\n",
       "    }\n",
       "\n",
       "    .dataframe thead th {\n",
       "        text-align: right;\n",
       "    }\n",
       "</style>\n",
       "<table border=\"1\" class=\"dataframe\">\n",
       "  <thead>\n",
       "    <tr style=\"text-align: right;\">\n",
       "      <th></th>\n",
       "      <th>Product</th>\n",
       "      <th>Sales</th>\n",
       "      <th>Profit</th>\n",
       "    </tr>\n",
       "  </thead>\n",
       "  <tbody>\n",
       "    <tr>\n",
       "      <th>0</th>\n",
       "      <td>Apples</td>\n",
       "      <td>150</td>\n",
       "      <td>45</td>\n",
       "    </tr>\n",
       "    <tr>\n",
       "      <th>1</th>\n",
       "      <td>Bananas</td>\n",
       "      <td>200</td>\n",
       "      <td>80</td>\n",
       "    </tr>\n",
       "    <tr>\n",
       "      <th>2</th>\n",
       "      <td>Oranges</td>\n",
       "      <td>120</td>\n",
       "      <td>36</td>\n",
       "    </tr>\n",
       "    <tr>\n",
       "      <th>3</th>\n",
       "      <td>Bread</td>\n",
       "      <td>300</td>\n",
       "      <td>90</td>\n",
       "    </tr>\n",
       "    <tr>\n",
       "      <th>4</th>\n",
       "      <td>Milk</td>\n",
       "      <td>250</td>\n",
       "      <td>75</td>\n",
       "    </tr>\n",
       "  </tbody>\n",
       "</table>\n",
       "</div>"
      ],
      "text/plain": [
       "   Product  Sales  Profit\n",
       "0   Apples    150      45\n",
       "1  Bananas    200      80\n",
       "2  Oranges    120      36\n",
       "3    Bread    300      90\n",
       "4     Milk    250      75"
      ]
     },
     "execution_count": 13,
     "metadata": {},
     "output_type": "execute_result"
    }
   ],
   "source": [
    "df.head(5)"
   ]
  }
 ],
 "metadata": {
  "kernelspec": {
   "display_name": "Python [conda env:base] *",
   "language": "python",
   "name": "conda-base-py"
  },
  "language_info": {
   "codemirror_mode": {
    "name": "ipython",
    "version": 3
   },
   "file_extension": ".py",
   "mimetype": "text/x-python",
   "name": "python",
   "nbconvert_exporter": "python",
   "pygments_lexer": "ipython3",
   "version": "3.13.5"
  }
 },
 "nbformat": 4,
 "nbformat_minor": 5
}
